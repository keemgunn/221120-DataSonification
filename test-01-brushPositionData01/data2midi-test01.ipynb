{
 "cells": [
  {
   "cell_type": "markdown",
   "metadata": {},
   "source": [
    "# Convert Data to Midi\n",
    "Data parameters -> Musical Parameters\n",
    "(X, Y) -> (pitch, intensity)"
   ]
  },
  {
   "cell_type": "markdown",
   "metadata": {},
   "source": [
    "Tutorial References:\n",
    "\n",
    "https://medium.com/@astromattrusso/sonification-101-how-to-convert-data-into-music-with-python-71a6dd67751c\n",
    "\n",
    "https://github.com/SYSTEMSounds/sonification-tutorials/blob/main/data2midi-part1.ipynb"
   ]
  },
  {
   "cell_type": "markdown",
   "metadata": {},
   "source": [
    "# A. Basics"
   ]
  },
  {
   "cell_type": "markdown",
   "metadata": {},
   "source": [
    "### 1. Modules & Variables"
   ]
  },
  {
   "cell_type": "markdown",
   "metadata": {},
   "source": [
    "#### Import basic modules"
   ]
  },
  {
   "cell_type": "code",
   "execution_count": 1,
   "metadata": {},
   "outputs": [],
   "source": [
    "import pandas as pd\n",
    "import numpy as np\n",
    "import matplotlib.pyplot as plt"
   ]
  },
  {
   "cell_type": "markdown",
   "metadata": {},
   "source": [
    "### 2. Methods"
   ]
  },
  {
   "cell_type": "markdown",
   "metadata": {},
   "source": [
    "#### data_overview"
   ]
  },
  {
   "cell_type": "code",
   "execution_count": 2,
   "metadata": {},
   "outputs": [],
   "source": [
    "# Overview by plotting dataframe by column values\n",
    "\n",
    "def data_overview(dataframe):\n",
    "    indices = dataframe.index.values\n",
    "    for col in (dataframe.columns):\n",
    "\n",
    "        max_value = max(dataframe[col])\n",
    "        min_value = min(dataframe[col])\n",
    "        print('column:', col, ':|:', 'max:', max_value, 'min:', min_value)\n",
    "\n",
    "        values = dataframe[col].values\n",
    "        plt.scatter(indices, values, s=1)\n",
    "        plt.xlabel('index')\n",
    "        plt.ylabel(col)\n",
    "        plt.show()"
   ]
  },
  {
   "cell_type": "markdown",
   "metadata": {},
   "source": [
    "#### map_value"
   ]
  },
  {
   "cell_type": "code",
   "execution_count": 3,
   "metadata": {},
   "outputs": [],
   "source": [
    "# Maps value (or array of values) from one range to another\n",
    "\n",
    "def map_value(value, min_input, max_input, min_output, max_output):\n",
    "    result = min_output + (value - min_input)/(max_input - min_input)*(max_output - min_output)\n",
    "    return result"
   ]
  },
  {
   "cell_type": "markdown",
   "metadata": {},
   "source": [
    "#### values_overview"
   ]
  },
  {
   "cell_type": "code",
   "execution_count": 4,
   "metadata": {},
   "outputs": [],
   "source": [
    "# Overview of single colum dataset by frame index\n",
    "\n",
    "def values_overview(frame_index, values, lable: str):\n",
    "    plt.scatter(frame_index, values, s=1)\n",
    "    plt.xlabel('frame index')\n",
    "    plt.ylabel(lable)\n",
    "    plt.show()"
   ]
  },
  {
   "cell_type": "markdown",
   "metadata": {},
   "source": [
    "### 3. Setup dataframe (.csv file)"
   ]
  },
  {
   "cell_type": "markdown",
   "metadata": {},
   "source": [
    "Import"
   ]
  },
  {
   "cell_type": "code",
   "execution_count": 5,
   "metadata": {},
   "outputs": [
    {
     "data": {
      "text/html": [
       "<div>\n",
       "<style scoped>\n",
       "    .dataframe tbody tr th:only-of-type {\n",
       "        vertical-align: middle;\n",
       "    }\n",
       "\n",
       "    .dataframe tbody tr th {\n",
       "        vertical-align: top;\n",
       "    }\n",
       "\n",
       "    .dataframe thead th {\n",
       "        text-align: right;\n",
       "    }\n",
       "</style>\n",
       "<table border=\"1\" class=\"dataframe\">\n",
       "  <thead>\n",
       "    <tr style=\"text-align: right;\">\n",
       "      <th></th>\n",
       "      <th>x</th>\n",
       "      <th>y</th>\n",
       "      <th>z</th>\n",
       "    </tr>\n",
       "  </thead>\n",
       "  <tbody>\n",
       "    <tr>\n",
       "      <th>0</th>\n",
       "      <td>-0.549436</td>\n",
       "      <td>0.001</td>\n",
       "      <td>-0.487388</td>\n",
       "    </tr>\n",
       "    <tr>\n",
       "      <th>1</th>\n",
       "      <td>-0.549571</td>\n",
       "      <td>0.001</td>\n",
       "      <td>-0.487099</td>\n",
       "    </tr>\n",
       "    <tr>\n",
       "      <th>2</th>\n",
       "      <td>-0.549945</td>\n",
       "      <td>0.001</td>\n",
       "      <td>-0.486143</td>\n",
       "    </tr>\n",
       "    <tr>\n",
       "      <th>3</th>\n",
       "      <td>-0.550511</td>\n",
       "      <td>0.001</td>\n",
       "      <td>-0.484386</td>\n",
       "    </tr>\n",
       "    <tr>\n",
       "      <th>4</th>\n",
       "      <td>-0.551219</td>\n",
       "      <td>0.001</td>\n",
       "      <td>-0.481694</td>\n",
       "    </tr>\n",
       "  </tbody>\n",
       "</table>\n",
       "</div>"
      ],
      "text/plain": [
       "          x      y         z\n",
       "0 -0.549436  0.001 -0.487388\n",
       "1 -0.549571  0.001 -0.487099\n",
       "2 -0.549945  0.001 -0.486143\n",
       "3 -0.550511  0.001 -0.484386\n",
       "4 -0.551219  0.001 -0.481694"
      ]
     },
     "execution_count": 5,
     "metadata": {},
     "output_type": "execute_result"
    }
   ],
   "source": [
    "SOURCE_PATH = './Brush-positions.csv'\n",
    "    # file path of input data\n",
    "\n",
    "df = pd.read_csv(SOURCE_PATH)\n",
    "df.head()"
   ]
  },
  {
   "cell_type": "markdown",
   "metadata": {},
   "source": [
    "Data Overview\n",
    "\n",
    "... just to look at the overall patterns and structures in the data."
   ]
  },
  {
   "cell_type": "code",
   "execution_count": 6,
   "metadata": {},
   "outputs": [
    {
     "name": "stdout",
     "output_type": "stream",
     "text": [
      "495 records\n",
      "3 columns \n",
      "\n",
      "column: x :|: max: 0.378537 min: -0.572957\n"
     ]
    },
    {
     "data": {
      "image/png": "[encoded data removed]",
      "text/plain": [
       "<Figure size 640x480 with 1 Axes>"
      ]
     },
     "metadata": {},
     "output_type": "display_data"
    },
    {
     "name": "stdout",
     "output_type": "stream",
     "text": [
      "column: y :|: max: 0.006 min: 0.001\n"
     ]
    },
    {
     "data": {
      "image/png": "[encoded data removed]",
      "text/plain": [
       "<Figure size 640x480 with 1 Axes>"
      ]
     },
     "metadata": {},
     "output_type": "display_data"
    },
    {
     "name": "stdout",
     "output_type": "stream",
     "text": [
      "column: z :|: max: 0.275858 min: -0.527612\n"
     ]
    },
    {
     "data": {
      "image/png": "[encoded data removed]",
      "text/plain": [
       "<Figure size 640x480 with 1 Axes>"
      ]
     },
     "metadata": {},
     "output_type": "display_data"
    }
   ],
   "source": [
    "index_length = len(df)\n",
    "column_length = len(df.columns)\n",
    "print(index_length, 'records')\n",
    "print(column_length, 'columns', '\\n')\n",
    "\n",
    "data_overview(df)"
   ]
  },
  {
   "cell_type": "markdown",
   "metadata": {},
   "source": [
    "# B. Data Modification"
   ]
  },
  {
   "cell_type": "markdown",
   "metadata": {},
   "source": [
    "## 1. Import basic data"
   ]
  },
  {
   "cell_type": "code",
   "execution_count": 7,
   "metadata": {},
   "outputs": [],
   "source": [
    "x_positions = df['x'].values\n",
    "y_positions = df['y'].values\n",
    "z_positions = df['z'].values\n",
    "frame_index = df.index.values"
   ]
  },
  {
   "cell_type": "markdown",
   "metadata": {},
   "source": [
    "## 2. Transform into audio-mutable data"
   ]
  },
  {
   "cell_type": "markdown",
   "metadata": {},
   "source": [
    "### Tempo (Compression Time) : Timing\n",
    "how much do you want it to be compressed by in a particular way"
   ]
  },
  {
   "cell_type": "markdown",
   "metadata": {},
   "source": [
    "- the MIDI file we create will measure time in beats (quarter notes), not in seconds"
   ]
  },
  {
   "cell_type": "markdown",
   "metadata": {},
   "source": [
    "NOTE:\n",
    "\n",
    "- I'm using different way than the one with the method that the instructor used. \n",
    "- Because I'm not arranging each records into variable time duration, I'm synchronizing each records corresponding to video footage. \n",
    "- So the tempo of the sounds depends on the footage FPS and time duration"
   ]
  },
  {
   "cell_type": "code",
   "execution_count": 8,
   "metadata": {},
   "outputs": [
    {
     "name": "stdout",
     "output_type": "stream",
     "text": [
      "total frames : 495 frames\n",
      "target fps : 15 fps\n",
      "retime_scale : 0.5 x\n",
      "frame per bit : 4\n",
      "bpm : 225.0 bpm\n",
      "duration : 123.5 beats\n",
      "time duration : 33.0 s\n"
     ]
    },
    {
     "data": {
      "text/plain": [
       "array([  0.  ,   0.25,   0.5 ,   0.75,   1.  ,   1.25,   1.5 ,   1.75,\n",
       "         2.  ,   2.25,   2.5 ,   2.75,   3.  ,   3.25,   3.5 ,   3.75,\n",
       "         4.  ,   4.25,   4.5 ,   4.75,   5.  ,   5.25,   5.5 ,   5.75,\n",
       "         6.  ,   6.25,   6.5 ,   6.75,   7.  ,   7.25,   7.5 ,   7.75,\n",
       "         8.  ,   8.25,   8.5 ,   8.75,   9.  ,   9.25,   9.5 ,   9.75,\n",
       "        10.  ,  10.25,  10.5 ,  10.75,  11.  ,  11.25,  11.5 ,  11.75,\n",
       "        12.  ,  12.25,  12.5 ,  12.75,  13.  ,  13.25,  13.5 ,  13.75,\n",
       "        14.  ,  14.25,  14.5 ,  14.75,  15.  ,  15.25,  15.5 ,  15.75,\n",
       "        16.  ,  16.25,  16.5 ,  16.75,  17.  ,  17.25,  17.5 ,  17.75,\n",
       "        18.  ,  18.25,  18.5 ,  18.75,  19.  ,  19.25,  19.5 ,  19.75,\n",
       "        20.  ,  20.25,  20.5 ,  20.75,  21.  ,  21.25,  21.5 ,  21.75,\n",
       "        22.  ,  22.25,  22.5 ,  22.75,  23.  ,  23.25,  23.5 ,  23.75,\n",
       "        24.  ,  24.25,  24.5 ,  24.75,  25.  ,  25.25,  25.5 ,  25.75,\n",
       "        26.  ,  26.25,  26.5 ,  26.75,  27.  ,  27.25,  27.5 ,  27.75,\n",
       "        28.  ,  28.25,  28.5 ,  28.75,  29.  ,  29.25,  29.5 ,  29.75,\n",
       "        30.  ,  30.25,  30.5 ,  30.75,  31.  ,  31.25,  31.5 ,  31.75,\n",
       "        32.  ,  32.25,  32.5 ,  32.75,  33.  ,  33.25,  33.5 ,  33.75,\n",
       "        34.  ,  34.25,  34.5 ,  34.75,  35.  ,  35.25,  35.5 ,  35.75,\n",
       "        36.  ,  36.25,  36.5 ,  36.75,  37.  ,  37.25,  37.5 ,  37.75,\n",
       "        38.  ,  38.25,  38.5 ,  38.75,  39.  ,  39.25,  39.5 ,  39.75,\n",
       "        40.  ,  40.25,  40.5 ,  40.75,  41.  ,  41.25,  41.5 ,  41.75,\n",
       "        42.  ,  42.25,  42.5 ,  42.75,  43.  ,  43.25,  43.5 ,  43.75,\n",
       "        44.  ,  44.25,  44.5 ,  44.75,  45.  ,  45.25,  45.5 ,  45.75,\n",
       "        46.  ,  46.25,  46.5 ,  46.75,  47.  ,  47.25,  47.5 ,  47.75,\n",
       "        48.  ,  48.25,  48.5 ,  48.75,  49.  ,  49.25,  49.5 ,  49.75,\n",
       "        50.  ,  50.25,  50.5 ,  50.75,  51.  ,  51.25,  51.5 ,  51.75,\n",
       "        52.  ,  52.25,  52.5 ,  52.75,  53.  ,  53.25,  53.5 ,  53.75,\n",
       "        54.  ,  54.25,  54.5 ,  54.75,  55.  ,  55.25,  55.5 ,  55.75,\n",
       "        56.  ,  56.25,  56.5 ,  56.75,  57.  ,  57.25,  57.5 ,  57.75,\n",
       "        58.  ,  58.25,  58.5 ,  58.75,  59.  ,  59.25,  59.5 ,  59.75,\n",
       "        60.  ,  60.25,  60.5 ,  60.75,  61.  ,  61.25,  61.5 ,  61.75,\n",
       "        62.  ,  62.25,  62.5 ,  62.75,  63.  ,  63.25,  63.5 ,  63.75,\n",
       "        64.  ,  64.25,  64.5 ,  64.75,  65.  ,  65.25,  65.5 ,  65.75,\n",
       "        66.  ,  66.25,  66.5 ,  66.75,  67.  ,  67.25,  67.5 ,  67.75,\n",
       "        68.  ,  68.25,  68.5 ,  68.75,  69.  ,  69.25,  69.5 ,  69.75,\n",
       "        70.  ,  70.25,  70.5 ,  70.75,  71.  ,  71.25,  71.5 ,  71.75,\n",
       "        72.  ,  72.25,  72.5 ,  72.75,  73.  ,  73.25,  73.5 ,  73.75,\n",
       "        74.  ,  74.25,  74.5 ,  74.75,  75.  ,  75.25,  75.5 ,  75.75,\n",
       "        76.  ,  76.25,  76.5 ,  76.75,  77.  ,  77.25,  77.5 ,  77.75,\n",
       "        78.  ,  78.25,  78.5 ,  78.75,  79.  ,  79.25,  79.5 ,  79.75,\n",
       "        80.  ,  80.25,  80.5 ,  80.75,  81.  ,  81.25,  81.5 ,  81.75,\n",
       "        82.  ,  82.25,  82.5 ,  82.75,  83.  ,  83.25,  83.5 ,  83.75,\n",
       "        84.  ,  84.25,  84.5 ,  84.75,  85.  ,  85.25,  85.5 ,  85.75,\n",
       "        86.  ,  86.25,  86.5 ,  86.75,  87.  ,  87.25,  87.5 ,  87.75,\n",
       "        88.  ,  88.25,  88.5 ,  88.75,  89.  ,  89.25,  89.5 ,  89.75,\n",
       "        90.  ,  90.25,  90.5 ,  90.75,  91.  ,  91.25,  91.5 ,  91.75,\n",
       "        92.  ,  92.25,  92.5 ,  92.75,  93.  ,  93.25,  93.5 ,  93.75,\n",
       "        94.  ,  94.25,  94.5 ,  94.75,  95.  ,  95.25,  95.5 ,  95.75,\n",
       "        96.  ,  96.25,  96.5 ,  96.75,  97.  ,  97.25,  97.5 ,  97.75,\n",
       "        98.  ,  98.25,  98.5 ,  98.75,  99.  ,  99.25,  99.5 ,  99.75,\n",
       "       100.  , 100.25, 100.5 , 100.75, 101.  , 101.25, 101.5 , 101.75,\n",
       "       102.  , 102.25, 102.5 , 102.75, 103.  , 103.25, 103.5 , 103.75,\n",
       "       104.  , 104.25, 104.5 , 104.75, 105.  , 105.25, 105.5 , 105.75,\n",
       "       106.  , 106.25, 106.5 , 106.75, 107.  , 107.25, 107.5 , 107.75,\n",
       "       108.  , 108.25, 108.5 , 108.75, 109.  , 109.25, 109.5 , 109.75,\n",
       "       110.  , 110.25, 110.5 , 110.75, 111.  , 111.25, 111.5 , 111.75,\n",
       "       112.  , 112.25, 112.5 , 112.75, 113.  , 113.25, 113.5 , 113.75,\n",
       "       114.  , 114.25, 114.5 , 114.75, 115.  , 115.25, 115.5 , 115.75,\n",
       "       116.  , 116.25, 116.5 , 116.75, 117.  , 117.25, 117.5 , 117.75,\n",
       "       118.  , 118.25, 118.5 , 118.75, 119.  , 119.25, 119.5 , 119.75,\n",
       "       120.  , 120.25, 120.5 , 120.75, 121.  , 121.25, 121.5 , 121.75,\n",
       "       122.  , 122.25, 122.5 , 122.75, 123.  , 123.25, 123.5 ])"
      ]
     },
     "execution_count": 8,
     "metadata": {},
     "output_type": "execute_result"
    }
   ],
   "source": [
    "TARGET_FPS = 15 #(fps)\n",
    "FRAME_PER_BEAT = 4\n",
    "\n",
    "original_fps = 30\n",
    "retime_scale = TARGET_FPS / original_fps\n",
    "time_duration = index_length / TARGET_FPS\n",
    "fpm = TARGET_FPS * 60\n",
    "bpm = (fpm / FRAME_PER_BEAT)\n",
    "res_timing = frame_index / FRAME_PER_BEAT\n",
    "duration = max(res_timing)\n",
    "\n",
    "print('total frames :', index_length, 'frames')\n",
    "print('target fps :', TARGET_FPS, 'fps')\n",
    "print('retime_scale :', retime_scale, 'x')\n",
    "print('frame per bit :', FRAME_PER_BEAT)\n",
    "print('bpm :', bpm, 'bpm')\n",
    "print('duration :', duration, 'beats')\n",
    "print('time duration :', time_duration, 's')\n",
    "\n",
    "res_timing\n",
    "# represents each note's chronological position. \n",
    "# 0 represents 'at beat 0', 10.75 represents 'at beat 10.75'"
   ]
  },
  {
   "cell_type": "markdown",
   "metadata": {},
   "source": [
    "### Velocity (Volume || Strength)\n",
    "- midi velocity (integer from 0-127) is a combination of volume and intensity (hitting a piano key with a larger velocity makes a louder, more intense sound)"
   ]
  },
  {
   "cell_type": "code",
   "execution_count": 9,
   "metadata": {},
   "outputs": [
    {
     "data": {
      "image/png": "[encoded data removed]",
      "text/plain": [
       "<Figure size 640x480 with 1 Axes>"
      ]
     },
     "metadata": {},
     "output_type": "display_data"
    }
   ],
   "source": [
    "VELOCITY_MIN = 40\n",
    "VELOCITY_MAX = 120\n",
    "DATA_FOR_VELOCITY = y_positions\n",
    "res_velocity = []\n",
    "\n",
    "velocity_mapped = map_value(DATA_FOR_VELOCITY, min(DATA_FOR_VELOCITY), max(DATA_FOR_VELOCITY), 0, 1)\n",
    "# y_scale = 0.8\n",
    "# velocity_mapped = velocity_mapped**y_scale\n",
    "    # lower than 1 to spread out more evenly\n",
    "\n",
    "for i in range(len(frame_index)):\n",
    "    velocity_value_mapped = map_value(velocity_mapped[i], min(velocity_mapped), max(velocity_mapped), VELOCITY_MIN, VELOCITY_MAX)\n",
    "    velocity_value_rounded = round(velocity_value_mapped)\n",
    "    res_velocity.append(velocity_value_rounded)\n",
    "\n",
    "values_overview(frame_index, res_velocity, 'res_velocity')"
   ]
  },
  {
   "cell_type": "markdown",
   "metadata": {},
   "source": [
    "### Pitch (Convert to midi numbers)"
   ]
  },
  {
   "cell_type": "markdown",
   "metadata": {},
   "source": [
    "#### Note Sets"
   ]
  },
  {
   "cell_type": "code",
   "execution_count": 10,
   "metadata": {},
   "outputs": [],
   "source": [
    "# 4 octaves of major scale\n",
    "notes_major = ['C2','D2','E2','F2','G2','A2','B2',\n",
    "             'C3','D3','E3','F3','G3','A3','B3',\n",
    "             'C4','D4','E4','F4','G4','A4','B4',\n",
    "             'C5','D5','E5','F5','G5','A5','B5']\n",
    "\n",
    "#4 octaves of major pentatonic scale \n",
    "notes_pentatonic = ['C2','D2','E2','G2','A2',\n",
    "             'C3','D3','E3','G3','A3',\n",
    "             'C4','D4','E4','G4','A4',\n",
    "             'C5','D5','E5','G5','A5']\n",
    "\n",
    "#custom note set (a voicing of a Cmaj13#11 chord, notes from C lydian)\n",
    "notes_c_lydian = ['C1','C2','G2',\n",
    "             'C3','E3','G3','A3','B3',\n",
    "             'D4','E4','G4','A4','B4',\n",
    "             'D5','E5','G5','A5','B5',\n",
    "             'D6','E6','F#6','G6','A6']"
   ]
  },
  {
   "cell_type": "markdown",
   "metadata": {},
   "source": [
    "NOTE :\n",
    "- for `audiolazy` package, it is recommended to use lower versions below Python 3.10"
   ]
  },
  {
   "cell_type": "code",
   "execution_count": 11,
   "metadata": {},
   "outputs": [
    {
     "data": {
      "text/plain": [
       "[36,\n",
       " 38,\n",
       " 40,\n",
       " 43,\n",
       " 45,\n",
       " 48,\n",
       " 50,\n",
       " 52,\n",
       " 55,\n",
       " 57,\n",
       " 60,\n",
       " 62,\n",
       " 64,\n",
       " 67,\n",
       " 69,\n",
       " 72,\n",
       " 74,\n",
       " 76,\n",
       " 79,\n",
       " 81]"
      ]
     },
     "execution_count": 11,
     "metadata": {},
     "output_type": "execute_result"
    }
   ],
   "source": [
    "SELECT_NOTE_SET = notes_pentatonic\n",
    "\n",
    "from audiolazy import *\n",
    "\n",
    "# select an notes sets & make a list of midi note numbers \n",
    "notes_selected = [str2midi(n) for n in SELECT_NOTE_SET]\n",
    "\n",
    "notes_selected"
   ]
  },
  {
   "cell_type": "markdown",
   "metadata": {},
   "source": [
    "#### Map data to MIDI note numbers"
   ]
  },
  {
   "cell_type": "code",
   "execution_count": 12,
   "metadata": {},
   "outputs": [
    {
     "data": {
      "image/png": "[encoded data removed]",
      "text/plain": [
       "<Figure size 640x480 with 1 Axes>"
      ]
     },
     "metadata": {},
     "output_type": "display_data"
    }
   ],
   "source": [
    "DATA_FOR_PITCH = z_positions\n",
    "res_notes = []\n",
    "\n",
    "pitch_mapped = map_value(DATA_FOR_PITCH, min(DATA_FOR_PITCH), max(DATA_FOR_PITCH), 0, 1)\n",
    "pitch_scale = 0.6\n",
    "pitch_mapped = pitch_mapped**pitch_scale\n",
    "    # lower than 1 to spread out more evenly\n",
    "\n",
    "for i in range(len(frame_index)):\n",
    "    note_index_mapped = map_value(pitch_mapped[i], min(pitch_mapped), max(pitch_mapped), 0, len(notes_selected)-1)\n",
    "    note_index_rounded = round(note_index_mapped)\n",
    "    note_number = notes_selected[note_index_rounded]\n",
    "    res_notes.append(note_number)\n",
    "\n",
    "values_overview(frame_index, res_notes, 'res_notes')"
   ]
  },
  {
   "cell_type": "markdown",
   "metadata": {},
   "source": [
    "## 3. Save data as MIDI file"
   ]
  },
  {
   "cell_type": "code",
   "execution_count": 13,
   "metadata": {},
   "outputs": [],
   "source": [
    "TRACK_NUM = 1\n",
    "EACH_DURATION = 1\n",
    "EXPORT_PATH = './brushPosition2midi-test01.mid'\n",
    "\n",
    "from midiutil import MIDIFile\n",
    "\n",
    "# create midi file object\n",
    "midi_res = MIDIFile(TRACK_NUM)\n",
    "\n",
    "# add tempo\n",
    "midi_res.addTempo(track=0, time=0, tempo=bpm)\n",
    "\n",
    "# add notes\n",
    "for i in range(len(frame_index)):\n",
    "    midi_res.addNote(track=0, channel=0, pitch=res_notes[i], time=res_timing[i], duration=EACH_DURATION, volume=res_velocity[i])\n",
    "\n",
    "# create and save the midi file\n",
    "with open(EXPORT_PATH, \"wb\") as f:\n",
    "    midi_res.writeFile(f)"
   ]
  },
  {
   "cell_type": "markdown",
   "metadata": {},
   "source": [
    "# C. Testflight within Jupyter"
   ]
  },
  {
   "cell_type": "code",
   "execution_count": 14,
   "metadata": {},
   "outputs": [
    {
     "name": "stderr",
     "output_type": "stream",
     "text": [
      "c:\\Users\\Gunn\\anaconda3\\python.exe: can't open file 'c:\\Users\\Gunn\\Codespace-GitRepo\\221120-DataSonification\\test-01-brushPositionData01\\conda': [Errno 2] No such file or directory\n"
     ]
    },
    {
     "name": "stdout",
     "output_type": "stream",
     "text": [
      "pygame 2.1.2 (SDL 2.0.18, Python 3.9.13)\n",
      "Hello from the pygame community. https://www.pygame.org/contribute.html\n"
     ]
    }
   ],
   "source": [
    "import sys \n",
    "# !{sys.executable} -m pip install --quiet \"pygame\"  #install pygame with pip\n",
    "\n",
    "#or use this if you installed python with anaconda\n",
    "!{sys.executable} conda install --yes --prefix {sys.prefix} pygame\n",
    "\n",
    "import pygame #import library for playing midi files, https://pypi.org/project/pygame/\n",
    "\n",
    "pygame.init()\n",
    "pygame.mixer.music.load(EXPORT_PATH)\n",
    "pygame.mixer.music.play()"
   ]
  },
  {
   "cell_type": "markdown",
   "metadata": {},
   "source": []
  }
 ],
 "metadata": {
  "kernelspec": {
   "display_name": "Python 3.9.13 ('base')",
   "language": "python",
   "name": "python3"
  },
  "language_info": {
   "codemirror_mode": {
    "name": "ipython",
    "version": 3
   },
   "file_extension": ".py",
   "mimetype": "text/x-python",
   "name": "python",
   "nbconvert_exporter": "python",
   "pygments_lexer": "ipython3",
   "version": "3.9.13"
  },
  "orig_nbformat": 4,
  "vscode": {
   "interpreter": {
    "hash": "b1e2a422abd208ae3ab1b8b3f1b8cc372265498ace9a1b6c41305f831ed7a94c"
   }
  }
 },
 "nbformat": 4,
 "nbformat_minor": 2
}
